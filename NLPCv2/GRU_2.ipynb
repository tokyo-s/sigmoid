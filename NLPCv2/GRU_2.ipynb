{
 "cells": [
  {
   "cell_type": "code",
   "execution_count": 1,
   "id": "71ec7bdf-7274-40a9-af0a-2b2b62a1d979",
   "metadata": {},
   "outputs": [],
   "source": [
    "# Scrierea și comentarea codului.           Done\n",
    "# Implimentarea clasei Vocabular.\n",
    "# Implimentarea clasei Data set.            Done\n",
    "# Implimentarea rețelei neuronale.          Done\n",
    "# Implimentarea ciclului de învănțare.      Done \n",
    "# Prezentța graficului cu Learning Curve pentru acuratețe și eroare.  Done\n",
    "# Reantrenarea modelului cu cem mai bun rezultat după learning curve. Done"
   ]
  },
  {
   "cell_type": "code",
   "execution_count": 2,
   "id": "8878eea4-0353-4d75-859f-b61ed5bb1d01",
   "metadata": {},
   "outputs": [],
   "source": [
    "# Imports\n",
    "import numpy as np\n",
    "import pandas as pd\n",
    "import matplotlib.pyplot as plt\n",
    "import torch\n",
    "from torch.utils.data import Dataset,DataLoader\n",
    "from torch import optim \n",
    "from torchvision import transforms\n",
    "import nltk\n",
    "from nltk.corpus import stopwords\n",
    "from nltk.stem import PorterStemmer\n",
    "from nltk.probability import FreqDist\n",
    "from nltk.tokenize import word_tokenize\n",
    "from torch import nn as nn\n",
    "from collections import Counter\n",
    "import itertools\n",
    "import gensim\n",
    "import os\n",
    "import spacy"
   ]
  },
  {
   "cell_type": "code",
   "execution_count": 3,
   "id": "4244c877-83cd-439e-906c-d90014422c72",
   "metadata": {},
   "outputs": [],
   "source": [
    "#Implementing Dataset class\n",
    "class Data(Dataset):\n",
    "    def __init__(self, data, device):\n",
    "        self.data = data\n",
    "        self.token_index = torch.transpose(torch.tensor(list(itertools.zip_longest(*data['index_tokens'], fillvalue=PAD_token))), dim0 = 0 , dim1 = 1).to(device)\n",
    "        self.sentiments_encoded = nn.functional.one_hot(torch.tensor(data['sentiment']),num_classes=3).to(device)\n",
    "    def __len__(self):\n",
    "        return len(self.data)\n",
    "\n",
    "    def __getitem__(self, index):\n",
    "        return self.token_index[index],self.sentiments_encoded[index]"
   ]
  },
  {
   "cell_type": "code",
   "execution_count": 4,
   "id": "95f80666-3cd9-4cef-98a9-874bad1c31b5",
   "metadata": {},
   "outputs": [],
   "source": [
    "# Default word tokens\n",
    "PAD_token = 0  # Used for padding short sentences\n",
    "SOS_token = 1  # Start-of-sentence token\n",
    "EOS_token = 2  # End-of-sentence token\n",
    "\n",
    "# Vocabulary class\n",
    "class Vocabulary:\n",
    "    def __init__(self, path_to_train, path_to_test, name, stemmer, device):\n",
    "        self.train = pd.read_csv(path_to_train, usecols = [2,3], names=['sentiment', 'content'])\n",
    "        self.test = pd.read_csv(path_to_test, usecols = [2,3], names=['sentiment', 'content'])\n",
    "        self.stemmer = stemmer\n",
    "        self.trained = False\n",
    "        self.name = name\n",
    "        self.trimmed = False\n",
    "        self.word2index = {}\n",
    "        self.word2count = {}\n",
    "        self.index2word = {PAD_token: \"PAD\", SOS_token: \"SOS\", EOS_token: \"EOS\"}\n",
    "        self.num_words = 3  # Count SOS, EOS, PAD\n",
    "        self.device = device\n",
    "        self.stopwords = spacy.load('en_core_web_sm').Defaults.stop_words\n",
    "        #loading the english language small model of spacy\n",
    "\n",
    "    def addSentence(self):\n",
    "        \n",
    "        self.train['tokens'] = self.train['content'].apply(lambda x: np.array([word.lower() for word in word_tokenize(str(x)) if len(word)>2 and word not in self.stopwords]))\n",
    "        self.test['tokens'] = self.test['content'].apply(lambda x: np.array([word.lower() for word in word_tokenize(str(x)) if len(word)>2 and word not in self.stopwords]))\n",
    "        for sentence in self.train['content']:\n",
    "            for word in word_tokenize(str(sentence)):\n",
    "                if len(word)>2 and word not in self.stopwords:\n",
    "                    self.addWord(word.lower())\n",
    "        self.train['index_tokens'] =  self.train['tokens'].apply(lambda x : np.array([self.word2index[word] for word in x] + [EOS_token]))\n",
    "        self.test['index_tokens'] =  self.test['tokens'].apply(lambda x : np.array([self.word2index[word] for word in x if word in self.word2index] + [EOS_token]))\n",
    "          \n",
    "\n",
    "    def addWord(self, word):\n",
    "        if word not in self.word2index:\n",
    "            self.word2index[word] = self.num_words\n",
    "            self.word2count[word] = 1\n",
    "            self.index2word[self.num_words] = word\n",
    "            self.num_words += 1\n",
    "        else:\n",
    "            self.word2count[word] += 1\n",
    "     \n",
    "    \n",
    "    def indexesFromSentence(self, sentence):\n",
    "        return [self.word2index[word] for word in sentence] + [EOS_token]\n",
    "    \n",
    "    def word2vec(self,):\n",
    "        model_train = gensim.models.Word2Vec(self.train['tokens'].sum(), min_count = 1, \n",
    "                              size = 100, window = 5)\n",
    "        \n",
    "        model_test = gensim.models.Word2Vec(self.test['tokens'].sum(), min_count = 1, \n",
    "                              size = 100, window = 5)"
   ]
  },
  {
   "cell_type": "code",
   "execution_count": 5,
   "id": "d91dccee-910f-4baa-b439-f15db4c1cb4c",
   "metadata": {},
   "outputs": [],
   "source": [
    "# Network class\n",
    "class GRU(nn.Module):\n",
    "    def __init__(self, hidden_dim, output_dim, n_layers, num_words, drop_prob=0.2):\n",
    "        super(GRU, self).__init__()\n",
    "        self.hidden_dim = hidden_dim\n",
    "        self.n_layers = n_layers\n",
    "        self.embedding = nn.Embedding(num_words, hidden_dim)\n",
    "        self.gru = nn.GRU(hidden_dim, hidden_dim, n_layers, batch_first=True, dropout=drop_prob)\n",
    "        self.fc = nn.Linear(hidden_dim, output_dim)\n",
    "        self.relu = nn.ReLU()\n",
    "        self.soft = torch.nn.Softmax()\n",
    "        \n",
    "    def forward(self, x, h = None):\n",
    "        x = self.embedding(x)\n",
    "        if h is None:\n",
    "            h = self.init_hidden(256)\n",
    "        out, h = self.gru(x, h)\n",
    "        out = self.fc(self.relu(out[:,-1]))\n",
    "        out = self.soft(out)\n",
    "        return out, h\n",
    "    \n",
    "    def init_hidden(self, batch_size):\n",
    "        weight = next(self.parameters()).data\n",
    "        hidden = weight.new(self.n_layers, batch_size, self.hidden_dim).zero_().to(device)\n",
    "        return hidden"
   ]
  },
  {
   "cell_type": "code",
   "execution_count": 6,
   "id": "5da14e5d-7d1c-4b39-9101-1bb9feb6cd0b",
   "metadata": {},
   "outputs": [],
   "source": [
    "# Train loop \n",
    "def train(epochs, optimizer, model, loss_fn, train_loader, test_loader, device, l2=0.001, print_plot=True):\n",
    "    \n",
    "    train_accuracy = np.zeros(epochs)\n",
    "    test_accuracy = np.zeros(epochs)\n",
    "    \n",
    "    train_loss = np.zeros(epochs)\n",
    "    test_loss = np. zeros(epochs)\n",
    "    for epoch in range(epochs):\n",
    "        # Train\n",
    "        model.train()\n",
    "        total = 0\n",
    "        correct = 0\n",
    "        current_train_loss = 0.0\n",
    "\n",
    "        for example, labels in train_loader:     \n",
    "\n",
    "            #Translating calculations to gpu if is available\n",
    "            example = example.to(device)\n",
    "            labels = labels.to(device).float()\n",
    "\n",
    "            # running our data thru our data - forward\n",
    "            predicted, _ = model(example)\n",
    "            # Getting loss of our network right now\n",
    "            loss = loss_fn(predicted, labels)\n",
    "            current_train_loss += loss    # Check if should not detatch?\n",
    "\n",
    "            total += labels.shape[0]\n",
    "            predicted = torch.round(predicted)\n",
    "            correct += int((predicted == labels).all(axis=1).sum())\n",
    "\n",
    "            # Zeroing the gradient to not stack it from other iterations\n",
    "            optimizer.zero_grad()\n",
    "            #Runing backward part of the neural network, getting gradiets\n",
    "            loss.backward()\n",
    "            #Updating our paramters\n",
    "            optimizer.step()\n",
    "        train_accuracy[epoch] = correct / total\n",
    "        train_loss[epoch] = current_train_loss / total\n",
    "        # Test\n",
    "        model.eval()\n",
    "        correct = 0\n",
    "        total = 0\n",
    "        current_test_loss = 0\n",
    "        for example, labels in test_loader:\n",
    "\n",
    "            #Translating calculations to gpu if is available\n",
    "            example = example.to(device)\n",
    "            labels = labels.to(device).float()\n",
    "            \n",
    "            #Forward\n",
    "            predicted, _ = model(example)\n",
    "            #Loss\n",
    "            loss = loss_fn(predicted, labels)\n",
    "            current_test_loss += loss # Check for detatch\n",
    "            \n",
    "            total += labels.shape[0]\n",
    "            predicted = torch.round(predicted)\n",
    "\n",
    "            correct += int((predicted  == labels).all(axis=1).sum())\n",
    "            \n",
    "        test_accuracy[epoch] = correct / total\n",
    "        test_loss[epoch] = current_test_loss / total\n",
    "        \n",
    "        #Print results for epochs\n",
    "        #if epoch % 10 == 0:\n",
    "        print('Epoch {0}, Training loss - {1}, Test loss {2}'.format(epoch,current_train_loss, current_test_loss))\n",
    "\n",
    "\n",
    "    #If set to True, print graph of train and validation loss\n",
    "    if print_plot:\n",
    "\n",
    "        #Setting x-ticks\n",
    "        epochs_range = range(1,epochs+1)\n",
    "        \n",
    "       # fig, ax = plt.subplots(nrows=1, ncols=2)\n",
    "        \n",
    "        plt.subplot(1, 2, 1)\n",
    "        plt.plot(epochs_range, train_loss, 'g', label='Training loss')\n",
    "        plt.plot(epochs_range, test_loss, 'b', label='Test loss')\n",
    "        plt.title('Training and Test Loss')\n",
    "        plt.xlabel('Epochs')\n",
    "        plt.ylabel('Loss')\n",
    "        plt.legend()\n",
    "\n",
    "        # #Ploting both curves, train and val \n",
    "        plt.subplot(1, 2, 2)\n",
    "        plt.plot(epochs_range, train_accuracy, 'g', label='Training accuracy')\n",
    "        plt.plot(epochs_range, test_accuracy, 'b', label='Test accuracy')\n",
    "        plt.title('Training and Test Accuracy')\n",
    "        plt.xlabel('Epochs')\n",
    "        plt.ylabel('Accuracy')\n",
    "        plt.legend()\n",
    "        plt.show()"
   ]
  },
  {
   "cell_type": "code",
   "execution_count": 15,
   "id": "558a2904-c231-410d-bbd5-590dfebd87ed",
   "metadata": {},
   "outputs": [],
   "source": [
    "# Loading data\n",
    "path_to_data = 'GRU/data'\n",
    "path_to_train = os.path.join(path_to_data, 'twitter_training.csv')\n",
    "path_to_test = os.path.join(path_to_data, 'twitter_validation.csv')\n",
    "\n",
    "device = torch.device('cuda')\n",
    "# Applying the vocabulary\n",
    "\n",
    "ps = PorterStemmer()\n",
    "\n",
    "vocabulary = Vocabulary(path_to_train, path_to_test, name = 'name', stemmer = ps, device = device)\n",
    "vocabulary.addSentence()"
   ]
  },
  {
   "cell_type": "code",
   "execution_count": 16,
   "id": "be7c60db-d0ed-47d6-8aa9-6a848feebd54",
   "metadata": {},
   "outputs": [],
   "source": [
    "train_set = vocabulary.train[['index_tokens', 'sentiment']]\n",
    "test_set = vocabulary.test[['index_tokens', 'sentiment']]"
   ]
  },
  {
   "cell_type": "code",
   "execution_count": 17,
   "id": "c05c2821-b0da-4fa6-aa8b-13a130573467",
   "metadata": {},
   "outputs": [
    {
     "name": "stderr",
     "output_type": "stream",
     "text": [
      "C:\\Users\\vladi\\AppData\\Local\\Temp/ipykernel_15388/2674311417.py:1: SettingWithCopyWarning: \n",
      "A value is trying to be set on a copy of a slice from a DataFrame.\n",
      "Try using .loc[row_indexer,col_indexer] = value instead\n",
      "\n",
      "See the caveats in the documentation: https://pandas.pydata.org/pandas-docs/stable/user_guide/indexing.html#returning-a-view-versus-a-copy\n",
      "  train_set['sentiment'] = train_set['sentiment'].replace({'Positive': 1, 'Negative': 0, 'Neutral': 2, 'Irrelevant': 2})\n",
      "C:\\Users\\vladi\\AppData\\Local\\Temp/ipykernel_15388/2674311417.py:2: SettingWithCopyWarning: \n",
      "A value is trying to be set on a copy of a slice from a DataFrame.\n",
      "Try using .loc[row_indexer,col_indexer] = value instead\n",
      "\n",
      "See the caveats in the documentation: https://pandas.pydata.org/pandas-docs/stable/user_guide/indexing.html#returning-a-view-versus-a-copy\n",
      "  test_set['sentiment'] = test_set['sentiment'].replace({'Positive': 1, 'Negative': 0, 'Neutral': 2, 'Irrelevant': 2})\n"
     ]
    }
   ],
   "source": [
    "train_set['sentiment'] = train_set['sentiment'].replace({'Positive': 1, 'Negative': 0, 'Neutral': 2, 'Irrelevant': 2})\n",
    "test_set['sentiment'] = test_set['sentiment'].replace({'Positive': 1, 'Negative': 0, 'Neutral': 2, 'Irrelevant': 2})"
   ]
  },
  {
   "cell_type": "code",
   "execution_count": 18,
   "id": "bddd17a2-6a8b-4a7f-a7f1-ccd1c52bda77",
   "metadata": {},
   "outputs": [],
   "source": [
    "train_dataset = Data(train_set, device = device)\n",
    "test_dataset = Data(test_set, device = device)"
   ]
  },
  {
   "cell_type": "code",
   "execution_count": 19,
   "id": "ada3c6d4-6511-490b-b350-693dbba209f5",
   "metadata": {},
   "outputs": [],
   "source": [
    "train_loader = DataLoader(\n",
    "    train_dataset, batch_size=256, shuffle=True,  drop_last=True\n",
    ")\n",
    "test_loader = DataLoader(\n",
    "    test_dataset, batch_size=256, shuffle=True, drop_last=True\n",
    ")"
   ]
  },
  {
   "cell_type": "code",
   "execution_count": 20,
   "id": "146e7d5a-30ff-4945-a210-52191fb57c47",
   "metadata": {},
   "outputs": [],
   "source": [
    "# Testing model\n",
    "\n",
    "learning_rate = 1e-3\n",
    "hidden_dim = 200\n",
    "#Initializing model with nr of features from input\n",
    "model = GRU(num_words = vocabulary.num_words, hidden_dim = hidden_dim, output_dim = 3, n_layers = 2).to(device)\n",
    "\n",
    "#Optimizer and loss funtion\n",
    "optimizer = optim.Adam(model.parameters(),lr=learning_rate)\n",
    "loss_fn = nn.CrossEntropyLoss()  "
   ]
  },
  {
   "cell_type": "code",
   "execution_count": 21,
   "id": "112853a3-c201-4bbe-ab6b-34d985d551d7",
   "metadata": {},
   "outputs": [
    {
     "name": "stderr",
     "output_type": "stream",
     "text": [
      "C:\\Users\\vladi\\AppData\\Local\\Temp/ipykernel_15388/2283120159.py:19: UserWarning: Implicit dimension choice for softmax has been deprecated. Change the call to include dim=X as an argument.\n",
      "  out = self.soft(out)\n"
     ]
    },
    {
     "name": "stdout",
     "output_type": "stream",
     "text": [
      "Epoch 0, Training loss - 300.0850830078125, Test loss 2.6242570877075195\n",
      "Epoch 1, Training loss - 248.80735778808594, Test loss 2.2738051414489746\n",
      "Epoch 2, Training loss - 227.63717651367188, Test loss 2.127178907394409\n",
      "Epoch 3, Training loss - 215.5935821533203, Test loss 2.0602972507476807\n",
      "Epoch 4, Training loss - 208.55728149414062, Test loss 1.9993711709976196\n",
      "Epoch 5, Training loss - 203.0902557373047, Test loss 1.9715352058410645\n",
      "Epoch 6, Training loss - 200.43052673339844, Test loss 1.9422270059585571\n",
      "Epoch 7, Training loss - 197.1678009033203, Test loss 1.9551365375518799\n",
      "Epoch 8, Training loss - 195.1479034423828, Test loss 1.9523696899414062\n",
      "Epoch 9, Training loss - 194.10745239257812, Test loss 1.9712342023849487\n"
     ]
    },
    {
     "data": {
      "image/png": "[encoded data removed]",
      "text/plain": [
       "<Figure size 432x288 with 2 Axes>"
      ]
     },
     "metadata": {
      "needs_background": "light"
     },
     "output_type": "display_data"
    }
   ],
   "source": [
    "#Running training loop on the data with set parameters\n",
    "train(\n",
    "    epochs=10,\n",
    "    optimizer=optimizer,\n",
    "    model = model,\n",
    "    loss_fn = loss_fn,\n",
    "    device = device,\n",
    "    print_plot=True,\n",
    "    train_loader=train_loader,\n",
    "    test_loader = test_loader\n",
    ")"
   ]
  },
  {
   "cell_type": "code",
   "execution_count": 24,
   "id": "5c67882b-3c2b-469a-96ef-1f1ed41335f2",
   "metadata": {},
   "outputs": [
    {
     "name": "stderr",
     "output_type": "stream",
     "text": [
      "C:\\Users\\vladi\\AppData\\Local\\Temp/ipykernel_15388/2283120159.py:19: UserWarning: Implicit dimension choice for softmax has been deprecated. Change the call to include dim=X as an argument.\n",
      "  out = self.soft(out)\n"
     ]
    },
    {
     "name": "stdout",
     "output_type": "stream",
     "text": [
      "Epoch 0, Training loss - 299.7362365722656, Test loss 2.5926637649536133\n",
      "Epoch 1, Training loss - 247.67526245117188, Test loss 2.2446165084838867\n",
      "Epoch 2, Training loss - 225.0295867919922, Test loss 2.099224328994751\n",
      "Epoch 3, Training loss - 213.80247497558594, Test loss 2.0525355339050293\n",
      "Epoch 4, Training loss - 207.67144775390625, Test loss 2.0047671794891357\n",
      "Epoch 5, Training loss - 203.31866455078125, Test loss 1.9747873544692993\n",
      "Epoch 6, Training loss - 199.52833557128906, Test loss 1.9469735622406006\n"
     ]
    },
    {
     "data": {
      "image/png": "[encoded data removed]",
      "text/plain": [
       "<Figure size 432x288 with 2 Axes>"
      ]
     },
     "metadata": {
      "needs_background": "light"
     },
     "output_type": "display_data"
    }
   ],
   "source": [
    "#model retrain\n",
    "learning_rate = 1e-3\n",
    "hidden_dim = 200\n",
    "#Initializing model with nr of features from input\n",
    "model = GRU(num_words = vocabulary.num_words, hidden_dim = hidden_dim, output_dim = 3, n_layers = 2).to(device)\n",
    "\n",
    "#Optimizer and loss funtion\n",
    "optimizer = optim.Adam(model.parameters(),lr=learning_rate)\n",
    "loss_fn = nn.CrossEntropyLoss()   \n",
    "\n",
    "#Running training loop on the data with set parameters\n",
    "train(\n",
    "    epochs=7,\n",
    "    optimizer=optimizer,\n",
    "    model = model,\n",
    "    loss_fn = loss_fn,\n",
    "    device = device,\n",
    "    print_plot=True,\n",
    "    train_loader=train_loader,\n",
    "    test_loader = test_loader\n",
    ")"
   ]
  },
  {
   "cell_type": "code",
   "execution_count": null,
   "id": "8d106ae5-7d63-47aa-ba37-b72aad8dcded",
   "metadata": {},
   "outputs": [],
   "source": []
  }
 ],
 "metadata": {
  "kernelspec": {
   "display_name": "Python 3 (ipykernel)",
   "language": "python",
   "name": "python3"
  },
  "language_info": {
   "codemirror_mode": {
    "name": "ipython",
    "version": 3
   },
   "file_extension": ".py",
   "mimetype": "text/x-python",
   "name": "python",
   "nbconvert_exporter": "python",
   "pygments_lexer": "ipython3",
   "version": "3.8.12"
  }
 },
 "nbformat": 4,
 "nbformat_minor": 5
}
